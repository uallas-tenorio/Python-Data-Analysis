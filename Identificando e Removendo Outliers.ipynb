{
 "cells": [
  {
   "cell_type": "markdown",
   "metadata": {},
   "source": [
    "# Relatório de Análise VIII"
   ]
  },
  {
   "cell_type": "markdown",
   "metadata": {},
   "source": [
    "## Identificando e Removendo Outliers"
   ]
  },
  {
   "cell_type": "code",
   "execution_count": 61,
   "metadata": {},
   "outputs": [],
   "source": [
    "%matplotlib inline\n",
    "import pandas as pd\n",
    "import matplotlib.pyplot as plt\n",
    "plt.rc('figure', figsize = (14,6))"
   ]
  },
  {
   "cell_type": "code",
   "execution_count": 62,
   "metadata": {},
   "outputs": [],
   "source": [
    "dados = pd.read_csv('dados/aluguel_residencial.csv', sep = ';')"
   ]
  },
  {
   "cell_type": "code",
   "execution_count": 63,
   "metadata": {},
   "outputs": [],
   "source": [
    "# verificando dados discrepantes no campo Valor"
   ]
  },
  {
   "cell_type": "code",
   "execution_count": 64,
   "metadata": {},
   "outputs": [
    {
     "data": {
      "text/plain": [
       "<matplotlib.axes._subplots.AxesSubplot at 0x2373b6f2448>"
      ]
     },
     "execution_count": 64,
     "metadata": {},
     "output_type": "execute_result"
    },
    {
     "data": {
      "image/png": "[encoded data removed]",
      "text/plain": [
       "<Figure size 1008x432 with 1 Axes>"
      ]
     },
     "metadata": {
      "needs_background": "light"
     },
     "output_type": "display_data"
    }
   ],
   "source": [
    "dados.boxplot(['Valor'])"
   ]
  },
  {
   "cell_type": "code",
   "execution_count": 65,
   "metadata": {},
   "outputs": [
    {
     "data": {
      "text/html": [
       "<div>\n",
       "<style scoped>\n",
       "    .dataframe tbody tr th:only-of-type {\n",
       "        vertical-align: middle;\n",
       "    }\n",
       "\n",
       "    .dataframe tbody tr th {\n",
       "        vertical-align: top;\n",
       "    }\n",
       "\n",
       "    .dataframe thead th {\n",
       "        text-align: right;\n",
       "    }\n",
       "</style>\n",
       "<table border=\"1\" class=\"dataframe\">\n",
       "  <thead>\n",
       "    <tr style=\"text-align: right;\">\n",
       "      <th></th>\n",
       "      <th>Tipo</th>\n",
       "      <th>Bairro</th>\n",
       "      <th>Quartos</th>\n",
       "      <th>Vagas</th>\n",
       "      <th>Suites</th>\n",
       "      <th>Area</th>\n",
       "      <th>Valor</th>\n",
       "      <th>Condominio</th>\n",
       "      <th>IPTU</th>\n",
       "      <th>Valor m2</th>\n",
       "      <th>Tipo Agregado</th>\n",
       "    </tr>\n",
       "  </thead>\n",
       "  <tbody>\n",
       "    <tr>\n",
       "      <th>7629</th>\n",
       "      <td>Apartamento</td>\n",
       "      <td>Barra da Tijuca</td>\n",
       "      <td>1</td>\n",
       "      <td>1</td>\n",
       "      <td>0</td>\n",
       "      <td>65</td>\n",
       "      <td>600000.0</td>\n",
       "      <td>980.0</td>\n",
       "      <td>120.0</td>\n",
       "      <td>9230.77</td>\n",
       "      <td>Apartamento</td>\n",
       "    </tr>\n",
       "    <tr>\n",
       "      <th>10636</th>\n",
       "      <td>Casa de Condomínio</td>\n",
       "      <td>Freguesia (Jacarepaguá)</td>\n",
       "      <td>4</td>\n",
       "      <td>2</td>\n",
       "      <td>3</td>\n",
       "      <td>163</td>\n",
       "      <td>800000.0</td>\n",
       "      <td>900.0</td>\n",
       "      <td>0.0</td>\n",
       "      <td>4907.98</td>\n",
       "      <td>Casa</td>\n",
       "    </tr>\n",
       "    <tr>\n",
       "      <th>12661</th>\n",
       "      <td>Apartamento</td>\n",
       "      <td>Freguesia (Jacarepaguá)</td>\n",
       "      <td>2</td>\n",
       "      <td>2</td>\n",
       "      <td>1</td>\n",
       "      <td>150</td>\n",
       "      <td>550000.0</td>\n",
       "      <td>850.0</td>\n",
       "      <td>150.0</td>\n",
       "      <td>3666.67</td>\n",
       "      <td>Apartamento</td>\n",
       "    </tr>\n",
       "    <tr>\n",
       "      <th>13846</th>\n",
       "      <td>Apartamento</td>\n",
       "      <td>Recreio dos Bandeirantes</td>\n",
       "      <td>3</td>\n",
       "      <td>2</td>\n",
       "      <td>1</td>\n",
       "      <td>167</td>\n",
       "      <td>1250000.0</td>\n",
       "      <td>1186.0</td>\n",
       "      <td>320.0</td>\n",
       "      <td>7485.03</td>\n",
       "      <td>Apartamento</td>\n",
       "    </tr>\n",
       "    <tr>\n",
       "      <th>15520</th>\n",
       "      <td>Apartamento</td>\n",
       "      <td>Botafogo</td>\n",
       "      <td>4</td>\n",
       "      <td>1</td>\n",
       "      <td>1</td>\n",
       "      <td>300</td>\n",
       "      <td>4500000.0</td>\n",
       "      <td>1100.0</td>\n",
       "      <td>0.0</td>\n",
       "      <td>15000.00</td>\n",
       "      <td>Apartamento</td>\n",
       "    </tr>\n",
       "  </tbody>\n",
       "</table>\n",
       "</div>"
      ],
      "text/plain": [
       "                     Tipo                    Bairro  Quartos  Vagas  Suites  \\\n",
       "7629          Apartamento           Barra da Tijuca        1      1       0   \n",
       "10636  Casa de Condomínio   Freguesia (Jacarepaguá)        4      2       3   \n",
       "12661         Apartamento   Freguesia (Jacarepaguá)        2      2       1   \n",
       "13846         Apartamento  Recreio dos Bandeirantes        3      2       1   \n",
       "15520         Apartamento                  Botafogo        4      1       1   \n",
       "\n",
       "       Area      Valor  Condominio   IPTU  Valor m2 Tipo Agregado  \n",
       "7629     65   600000.0       980.0  120.0   9230.77   Apartamento  \n",
       "10636   163   800000.0       900.0    0.0   4907.98          Casa  \n",
       "12661   150   550000.0       850.0  150.0   3666.67   Apartamento  \n",
       "13846   167  1250000.0      1186.0  320.0   7485.03   Apartamento  \n",
       "15520   300  4500000.0      1100.0    0.0  15000.00   Apartamento  "
      ]
     },
     "execution_count": 65,
     "metadata": {},
     "output_type": "execute_result"
    }
   ],
   "source": [
    "dados[dados['Valor'] >= 500000]"
   ]
  },
  {
   "cell_type": "code",
   "execution_count": 66,
   "metadata": {},
   "outputs": [],
   "source": [
    "# padrão estatístico para definir os registros com desvio de valor\n",
    "Q1 = dados.Valor.quantile(.25)\n",
    "Q3 = dados.Valor.quantile(.75)\n",
    "IIQ = Q3 - Q1\n",
    "limite_inferior = Q1 - 1.5 * IIQ\n",
    "limite_superior = Q3 + 1.5 * IIQ\n"
   ]
  },
  {
   "cell_type": "code",
   "execution_count": 67,
   "metadata": {},
   "outputs": [],
   "source": [
    "# filtra casos apenas dentro dos limites de desvio\n",
    "selecao = (dados.Valor >= limite_inferior) & (dados.Valor <= limite_superior)\n",
    "dados_new = dados[selecao]"
   ]
  },
  {
   "cell_type": "code",
   "execution_count": 68,
   "metadata": {},
   "outputs": [
    {
     "data": {
      "text/plain": [
       "<matplotlib.axes._subplots.AxesSubplot at 0x2373b4b6048>"
      ]
     },
     "execution_count": 68,
     "metadata": {},
     "output_type": "execute_result"
    },
    {
     "data": {
      "image/png": "[encoded data removed]",
      "text/plain": [
       "<Figure size 1008x432 with 1 Axes>"
      ]
     },
     "metadata": {
      "needs_background": "light"
     },
     "output_type": "display_data"
    }
   ],
   "source": [
    "dados_new.boxplot(['Valor'])"
   ]
  },
  {
   "cell_type": "code",
   "execution_count": 69,
   "metadata": {},
   "outputs": [],
   "source": [
    "## Classificando Imóveis de baixo e alto padrão de acordo com o valor"
   ]
  },
  {
   "cell_type": "code",
   "execution_count": 70,
   "metadata": {},
   "outputs": [],
   "source": [
    "dados['Padrão'] = dados['Valor'].apply(lambda x: 'Alto' if x >= 10000 else ('Médio' if x > 5000 else 'Padrão'))\n",
    "    "
   ]
  },
  {
   "cell_type": "code",
   "execution_count": 71,
   "metadata": {},
   "outputs": [
    {
     "data": {
      "text/html": [
       "<div>\n",
       "<style scoped>\n",
       "    .dataframe tbody tr th:only-of-type {\n",
       "        vertical-align: middle;\n",
       "    }\n",
       "\n",
       "    .dataframe tbody tr th {\n",
       "        vertical-align: top;\n",
       "    }\n",
       "\n",
       "    .dataframe thead th {\n",
       "        text-align: right;\n",
       "    }\n",
       "</style>\n",
       "<table border=\"1\" class=\"dataframe\">\n",
       "  <thead>\n",
       "    <tr style=\"text-align: right;\">\n",
       "      <th></th>\n",
       "      <th>Tipo</th>\n",
       "      <th>Bairro</th>\n",
       "      <th>Quartos</th>\n",
       "      <th>Vagas</th>\n",
       "      <th>Suites</th>\n",
       "      <th>Area</th>\n",
       "      <th>Valor</th>\n",
       "      <th>Condominio</th>\n",
       "      <th>IPTU</th>\n",
       "      <th>Valor m2</th>\n",
       "      <th>Tipo Agregado</th>\n",
       "      <th>Padrão</th>\n",
       "    </tr>\n",
       "  </thead>\n",
       "  <tbody>\n",
       "    <tr>\n",
       "      <th>0</th>\n",
       "      <td>Quitinete</td>\n",
       "      <td>Copacabana</td>\n",
       "      <td>1</td>\n",
       "      <td>0</td>\n",
       "      <td>0</td>\n",
       "      <td>40</td>\n",
       "      <td>1700.0</td>\n",
       "      <td>500.0</td>\n",
       "      <td>60.0</td>\n",
       "      <td>42.50</td>\n",
       "      <td>Apartamento</td>\n",
       "      <td>Padrão</td>\n",
       "    </tr>\n",
       "    <tr>\n",
       "      <th>1</th>\n",
       "      <td>Casa</td>\n",
       "      <td>Jardim Botânico</td>\n",
       "      <td>2</td>\n",
       "      <td>0</td>\n",
       "      <td>1</td>\n",
       "      <td>100</td>\n",
       "      <td>7000.0</td>\n",
       "      <td>0.0</td>\n",
       "      <td>0.0</td>\n",
       "      <td>70.00</td>\n",
       "      <td>Casa</td>\n",
       "      <td>Médio</td>\n",
       "    </tr>\n",
       "    <tr>\n",
       "      <th>2</th>\n",
       "      <td>Apartamento</td>\n",
       "      <td>Centro</td>\n",
       "      <td>1</td>\n",
       "      <td>0</td>\n",
       "      <td>0</td>\n",
       "      <td>15</td>\n",
       "      <td>800.0</td>\n",
       "      <td>390.0</td>\n",
       "      <td>20.0</td>\n",
       "      <td>53.33</td>\n",
       "      <td>Apartamento</td>\n",
       "      <td>Padrão</td>\n",
       "    </tr>\n",
       "    <tr>\n",
       "      <th>3</th>\n",
       "      <td>Apartamento</td>\n",
       "      <td>Higienópolis</td>\n",
       "      <td>1</td>\n",
       "      <td>0</td>\n",
       "      <td>0</td>\n",
       "      <td>48</td>\n",
       "      <td>800.0</td>\n",
       "      <td>230.0</td>\n",
       "      <td>0.0</td>\n",
       "      <td>16.67</td>\n",
       "      <td>Apartamento</td>\n",
       "      <td>Padrão</td>\n",
       "    </tr>\n",
       "    <tr>\n",
       "      <th>4</th>\n",
       "      <td>Apartamento</td>\n",
       "      <td>Cachambi</td>\n",
       "      <td>2</td>\n",
       "      <td>0</td>\n",
       "      <td>0</td>\n",
       "      <td>50</td>\n",
       "      <td>1300.0</td>\n",
       "      <td>301.0</td>\n",
       "      <td>17.0</td>\n",
       "      <td>26.00</td>\n",
       "      <td>Apartamento</td>\n",
       "      <td>Padrão</td>\n",
       "    </tr>\n",
       "    <tr>\n",
       "      <th>...</th>\n",
       "      <td>...</td>\n",
       "      <td>...</td>\n",
       "      <td>...</td>\n",
       "      <td>...</td>\n",
       "      <td>...</td>\n",
       "      <td>...</td>\n",
       "      <td>...</td>\n",
       "      <td>...</td>\n",
       "      <td>...</td>\n",
       "      <td>...</td>\n",
       "      <td>...</td>\n",
       "      <td>...</td>\n",
       "    </tr>\n",
       "    <tr>\n",
       "      <th>21821</th>\n",
       "      <td>Apartamento</td>\n",
       "      <td>Méier</td>\n",
       "      <td>2</td>\n",
       "      <td>0</td>\n",
       "      <td>0</td>\n",
       "      <td>70</td>\n",
       "      <td>900.0</td>\n",
       "      <td>490.0</td>\n",
       "      <td>48.0</td>\n",
       "      <td>12.86</td>\n",
       "      <td>Apartamento</td>\n",
       "      <td>Padrão</td>\n",
       "    </tr>\n",
       "    <tr>\n",
       "      <th>21822</th>\n",
       "      <td>Quitinete</td>\n",
       "      <td>Centro</td>\n",
       "      <td>0</td>\n",
       "      <td>0</td>\n",
       "      <td>0</td>\n",
       "      <td>27</td>\n",
       "      <td>800.0</td>\n",
       "      <td>350.0</td>\n",
       "      <td>25.0</td>\n",
       "      <td>29.63</td>\n",
       "      <td>Apartamento</td>\n",
       "      <td>Padrão</td>\n",
       "    </tr>\n",
       "    <tr>\n",
       "      <th>21823</th>\n",
       "      <td>Apartamento</td>\n",
       "      <td>Jacarepaguá</td>\n",
       "      <td>3</td>\n",
       "      <td>1</td>\n",
       "      <td>2</td>\n",
       "      <td>78</td>\n",
       "      <td>1800.0</td>\n",
       "      <td>800.0</td>\n",
       "      <td>40.0</td>\n",
       "      <td>23.08</td>\n",
       "      <td>Apartamento</td>\n",
       "      <td>Padrão</td>\n",
       "    </tr>\n",
       "    <tr>\n",
       "      <th>21824</th>\n",
       "      <td>Apartamento</td>\n",
       "      <td>São Francisco Xavier</td>\n",
       "      <td>2</td>\n",
       "      <td>1</td>\n",
       "      <td>0</td>\n",
       "      <td>48</td>\n",
       "      <td>1400.0</td>\n",
       "      <td>509.0</td>\n",
       "      <td>37.0</td>\n",
       "      <td>29.17</td>\n",
       "      <td>Apartamento</td>\n",
       "      <td>Padrão</td>\n",
       "    </tr>\n",
       "    <tr>\n",
       "      <th>21825</th>\n",
       "      <td>Apartamento</td>\n",
       "      <td>Leblon</td>\n",
       "      <td>2</td>\n",
       "      <td>0</td>\n",
       "      <td>0</td>\n",
       "      <td>70</td>\n",
       "      <td>3000.0</td>\n",
       "      <td>760.0</td>\n",
       "      <td>0.0</td>\n",
       "      <td>42.86</td>\n",
       "      <td>Apartamento</td>\n",
       "      <td>Padrão</td>\n",
       "    </tr>\n",
       "  </tbody>\n",
       "</table>\n",
       "<p>21826 rows × 12 columns</p>\n",
       "</div>"
      ],
      "text/plain": [
       "              Tipo                Bairro  Quartos  Vagas  Suites  Area  \\\n",
       "0        Quitinete            Copacabana        1      0       0    40   \n",
       "1             Casa       Jardim Botânico        2      0       1   100   \n",
       "2      Apartamento                Centro        1      0       0    15   \n",
       "3      Apartamento          Higienópolis        1      0       0    48   \n",
       "4      Apartamento              Cachambi        2      0       0    50   \n",
       "...            ...                   ...      ...    ...     ...   ...   \n",
       "21821  Apartamento                 Méier        2      0       0    70   \n",
       "21822    Quitinete                Centro        0      0       0    27   \n",
       "21823  Apartamento           Jacarepaguá        3      1       2    78   \n",
       "21824  Apartamento  São Francisco Xavier        2      1       0    48   \n",
       "21825  Apartamento                Leblon        2      0       0    70   \n",
       "\n",
       "        Valor  Condominio  IPTU  Valor m2 Tipo Agregado  Padrão  \n",
       "0      1700.0       500.0  60.0     42.50   Apartamento  Padrão  \n",
       "1      7000.0         0.0   0.0     70.00          Casa   Médio  \n",
       "2       800.0       390.0  20.0     53.33   Apartamento  Padrão  \n",
       "3       800.0       230.0   0.0     16.67   Apartamento  Padrão  \n",
       "4      1300.0       301.0  17.0     26.00   Apartamento  Padrão  \n",
       "...       ...         ...   ...       ...           ...     ...  \n",
       "21821   900.0       490.0  48.0     12.86   Apartamento  Padrão  \n",
       "21822   800.0       350.0  25.0     29.63   Apartamento  Padrão  \n",
       "21823  1800.0       800.0  40.0     23.08   Apartamento  Padrão  \n",
       "21824  1400.0       509.0  37.0     29.17   Apartamento  Padrão  \n",
       "21825  3000.0       760.0   0.0     42.86   Apartamento  Padrão  \n",
       "\n",
       "[21826 rows x 12 columns]"
      ]
     },
     "execution_count": 71,
     "metadata": {},
     "output_type": "execute_result"
    }
   ],
   "source": [
    "dados"
   ]
  },
  {
   "cell_type": "code",
   "execution_count": 72,
   "metadata": {},
   "outputs": [],
   "source": [
    "# historigram"
   ]
  },
  {
   "cell_type": "code",
   "execution_count": 73,
   "metadata": {},
   "outputs": [
    {
     "data": {
      "text/plain": [
       "array([[<matplotlib.axes._subplots.AxesSubplot object at 0x0000023738FFB1C8>]],\n",
       "      dtype=object)"
      ]
     },
     "execution_count": 73,
     "metadata": {},
     "output_type": "execute_result"
    },
    {
     "data": {
      "image/png": "[encoded data removed]",
      "text/plain": [
       "<Figure size 1008x432 with 1 Axes>"
      ]
     },
     "metadata": {
      "needs_background": "light"
     },
     "output_type": "display_data"
    },
    {
     "data": {
      "image/png": "[encoded data removed]",
      "text/plain": [
       "<Figure size 1008x432 with 1 Axes>"
      ]
     },
     "metadata": {
      "needs_background": "light"
     },
     "output_type": "display_data"
    }
   ],
   "source": [
    "dados.hist(['Valor'])\n",
    "dados_new.hist(['Valor'])"
   ]
  },
  {
   "cell_type": "code",
   "execution_count": 74,
   "metadata": {},
   "outputs": [
    {
     "data": {
      "text/plain": [
       "<matplotlib.axes._subplots.AxesSubplot at 0x2373a27b088>"
      ]
     },
     "execution_count": 74,
     "metadata": {},
     "output_type": "execute_result"
    },
    {
     "data": {
      "image/png": "[encoded data removed]",
      "text/plain": [
       "<Figure size 1008x432 with 1 Axes>"
      ]
     },
     "metadata": {
      "needs_background": "light"
     },
     "output_type": "display_data"
    }
   ],
   "source": [
    "dados.boxplot(['Valor'], by = ['Tipo'])"
   ]
  },
  {
   "cell_type": "code",
   "execution_count": 75,
   "metadata": {},
   "outputs": [
    {
     "data": {
      "text/plain": [
       "{'Apartamento': Int64Index([    2,     3,     4,     7,     8,     9,    11,    13,    14,\n",
       "                15,\n",
       "             ...\n",
       "             21813, 21814, 21816, 21817, 21818, 21819, 21821, 21823, 21824,\n",
       "             21825],\n",
       "            dtype='int64', length=18780),\n",
       " 'Casa': Int64Index([    1,    22,    54,    57,    96,   100,   144,   160,   180,\n",
       "               238,\n",
       "             ...\n",
       "             21582, 21606, 21614, 21667, 21672, 21699, 21756, 21781, 21793,\n",
       "             21804],\n",
       "            dtype='int64', length=965),\n",
       " 'Casa de Condomínio': Int64Index([    5,     6,    12,    16,    42,    58,   166,   168,   183,\n",
       "               207,\n",
       "             ...\n",
       "             21709, 21711, 21719, 21752, 21763, 21764, 21782, 21791, 21801,\n",
       "             21820],\n",
       "            dtype='int64', length=996),\n",
       " 'Casa de Vila': Int64Index([   81,   212,   220,   303,   332,   697,   822,   844,   918,\n",
       "              1012,\n",
       "             ...\n",
       "             21184, 21189, 21253, 21325, 21353, 21366, 21588, 21635, 21716,\n",
       "             21762],\n",
       "            dtype='int64', length=249),\n",
       " 'Quitinete': Int64Index([    0,    10,    28,    71,    78,    86,   101,   120,   146,\n",
       "               174,\n",
       "             ...\n",
       "             21384, 21410, 21441, 21656, 21682, 21687, 21728, 21748, 21815,\n",
       "             21822],\n",
       "            dtype='int64', length=836)}"
      ]
     },
     "execution_count": 75,
     "metadata": {},
     "output_type": "execute_result"
    }
   ],
   "source": [
    "# Agrupando dados por tipo e valor\n",
    "grupo_tipo = dados.groupby('Tipo')['Valor']\n",
    "grupo_tipo.groups"
   ]
  },
  {
   "cell_type": "code",
   "execution_count": 76,
   "metadata": {},
   "outputs": [],
   "source": [
    "# padrão estatístico para definir os registros com desvio de valor (por grupo)\n",
    "Q1 = grupo_tipo.quantile(.25)\n",
    "Q3 = grupo_tipo.quantile(.75)\n",
    "IIQ = Q3 - Q1\n",
    "limite_inferior = Q1 - 1.5 * IIQ\n",
    "limite_superior = Q3 + 1.5 * IIQ"
   ]
  },
  {
   "cell_type": "code",
   "execution_count": 77,
   "metadata": {},
   "outputs": [
    {
     "data": {
      "text/plain": [
       "Tipo\n",
       "Apartamento           1700.0\n",
       "Casa                  1100.0\n",
       "Casa de Condomínio    4000.0\n",
       "Casa de Vila           750.0\n",
       "Quitinete              900.0\n",
       "Name: Valor, dtype: float64"
      ]
     },
     "execution_count": 77,
     "metadata": {},
     "output_type": "execute_result"
    }
   ],
   "source": [
    "Q1"
   ]
  },
  {
   "cell_type": "code",
   "execution_count": 78,
   "metadata": {},
   "outputs": [
    {
     "data": {
      "text/plain": [
       "Tipo\n",
       "Apartamento            5000.0\n",
       "Casa                   9800.0\n",
       "Casa de Condomínio    15250.0\n",
       "Casa de Vila           1800.0\n",
       "Quitinete              1500.0\n",
       "Name: Valor, dtype: float64"
      ]
     },
     "execution_count": 78,
     "metadata": {},
     "output_type": "execute_result"
    }
   ],
   "source": [
    "Q3"
   ]
  },
  {
   "cell_type": "code",
   "execution_count": 79,
   "metadata": {},
   "outputs": [
    {
     "data": {
      "text/plain": [
       "Tipo\n",
       "Apartamento            3300.0\n",
       "Casa                   8700.0\n",
       "Casa de Condomínio    11250.0\n",
       "Casa de Vila           1050.0\n",
       "Quitinete               600.0\n",
       "Name: Valor, dtype: float64"
      ]
     },
     "execution_count": 79,
     "metadata": {},
     "output_type": "execute_result"
    }
   ],
   "source": [
    "IIQ "
   ]
  },
  {
   "cell_type": "code",
   "execution_count": 80,
   "metadata": {},
   "outputs": [
    {
     "data": {
      "text/plain": [
       "Tipo\n",
       "Apartamento           -3250.0\n",
       "Casa                 -11950.0\n",
       "Casa de Condomínio   -12875.0\n",
       "Casa de Vila           -825.0\n",
       "Quitinete                 0.0\n",
       "Name: Valor, dtype: float64"
      ]
     },
     "execution_count": 80,
     "metadata": {},
     "output_type": "execute_result"
    }
   ],
   "source": [
    "limite_inferior"
   ]
  },
  {
   "cell_type": "code",
   "execution_count": 81,
   "metadata": {},
   "outputs": [
    {
     "data": {
      "text/plain": [
       "Tipo\n",
       "Apartamento            9950.0\n",
       "Casa                  22850.0\n",
       "Casa de Condomínio    32125.0\n",
       "Casa de Vila           3375.0\n",
       "Quitinete              2400.0\n",
       "Name: Valor, dtype: float64"
      ]
     },
     "execution_count": 81,
     "metadata": {},
     "output_type": "execute_result"
    }
   ],
   "source": [
    "limite_superior"
   ]
  },
  {
   "cell_type": "code",
   "execution_count": 82,
   "metadata": {},
   "outputs": [],
   "source": [
    "# Limpando os dados de acordo com os limites/tipos\n",
    "dados_new = pd.DataFrame()  #cria dataframe em branco\n",
    "for tipo in grupo_tipo.groups.keys():\n",
    "    eh_tipo = dados['Tipo'] == tipo\n",
    "    eh_dentro_limite = (dados['Valor'] >= limite_inferior[tipo]) & (dados['Valor'] <= limite_superior[tipo])\n",
    "    selecao = eh_tipo & eh_dentro_limite\n",
    "    dados_selecao = dados[selecao]\n",
    "    dados_new = pd.concat([dados_new, dados_selecao])"
   ]
  },
  {
   "cell_type": "code",
   "execution_count": 83,
   "metadata": {},
   "outputs": [
    {
     "data": {
      "text/plain": [
       "<matplotlib.axes._subplots.AxesSubplot at 0x2373a351f88>"
      ]
     },
     "execution_count": 83,
     "metadata": {},
     "output_type": "execute_result"
    },
    {
     "data": {
      "image/png": "[encoded data removed]",
      "text/plain": [
       "<Figure size 1008x432 with 1 Axes>"
      ]
     },
     "metadata": {
      "needs_background": "light"
     },
     "output_type": "display_data"
    }
   ],
   "source": [
    "dados_new.boxplot(['Valor'], by = ['Tipo'])"
   ]
  },
  {
   "cell_type": "code",
   "execution_count": 84,
   "metadata": {},
   "outputs": [],
   "source": [
    "#Salvando dados em um novo arquivo\n",
    "dados_new.to_csv('dados/aluguel_residencial_sem_outliers.csv', sep = ';', index = False)"
   ]
  },
  {
   "cell_type": "markdown",
   "metadata": {},
   "source": [
    "## Gerando algumas visões (gráficos)"
   ]
  },
  {
   "cell_type": "code",
   "execution_count": 85,
   "metadata": {},
   "outputs": [],
   "source": [
    "#cabeçalho matplotlib\n",
    "%matplotlib inline\n",
    "import pandas as pd\n",
    "import matplotlib.pyplot as plt\n",
    "plt.rc('figure', figsize = (15,8))"
   ]
  },
  {
   "cell_type": "code",
   "execution_count": 86,
   "metadata": {},
   "outputs": [],
   "source": [
    "dados_graf = pd.read_csv('dados/aluguel_residencial_sem_outliers.csv', sep = ';')"
   ]
  },
  {
   "cell_type": "code",
   "execution_count": 87,
   "metadata": {},
   "outputs": [
    {
     "data": {
      "text/html": [
       "<div>\n",
       "<style scoped>\n",
       "    .dataframe tbody tr th:only-of-type {\n",
       "        vertical-align: middle;\n",
       "    }\n",
       "\n",
       "    .dataframe tbody tr th {\n",
       "        vertical-align: top;\n",
       "    }\n",
       "\n",
       "    .dataframe thead th {\n",
       "        text-align: right;\n",
       "    }\n",
       "</style>\n",
       "<table border=\"1\" class=\"dataframe\">\n",
       "  <thead>\n",
       "    <tr style=\"text-align: right;\">\n",
       "      <th></th>\n",
       "      <th>Tipo</th>\n",
       "      <th>Bairro</th>\n",
       "      <th>Quartos</th>\n",
       "      <th>Vagas</th>\n",
       "      <th>Suites</th>\n",
       "      <th>Area</th>\n",
       "      <th>Valor</th>\n",
       "      <th>Condominio</th>\n",
       "      <th>IPTU</th>\n",
       "      <th>Valor m2</th>\n",
       "      <th>Tipo Agregado</th>\n",
       "      <th>Padrão</th>\n",
       "    </tr>\n",
       "  </thead>\n",
       "  <tbody>\n",
       "    <tr>\n",
       "      <th>0</th>\n",
       "      <td>Quitinete</td>\n",
       "      <td>Copacabana</td>\n",
       "      <td>1</td>\n",
       "      <td>0</td>\n",
       "      <td>0</td>\n",
       "      <td>40</td>\n",
       "      <td>1700.0</td>\n",
       "      <td>500.0</td>\n",
       "      <td>60.0</td>\n",
       "      <td>42.50</td>\n",
       "      <td>Apartamento</td>\n",
       "      <td>Padrão</td>\n",
       "    </tr>\n",
       "    <tr>\n",
       "      <th>1</th>\n",
       "      <td>Casa</td>\n",
       "      <td>Jardim Botânico</td>\n",
       "      <td>2</td>\n",
       "      <td>0</td>\n",
       "      <td>1</td>\n",
       "      <td>100</td>\n",
       "      <td>7000.0</td>\n",
       "      <td>0.0</td>\n",
       "      <td>0.0</td>\n",
       "      <td>70.00</td>\n",
       "      <td>Casa</td>\n",
       "      <td>Médio</td>\n",
       "    </tr>\n",
       "    <tr>\n",
       "      <th>2</th>\n",
       "      <td>Apartamento</td>\n",
       "      <td>Centro</td>\n",
       "      <td>1</td>\n",
       "      <td>0</td>\n",
       "      <td>0</td>\n",
       "      <td>15</td>\n",
       "      <td>800.0</td>\n",
       "      <td>390.0</td>\n",
       "      <td>20.0</td>\n",
       "      <td>53.33</td>\n",
       "      <td>Apartamento</td>\n",
       "      <td>Padrão</td>\n",
       "    </tr>\n",
       "    <tr>\n",
       "      <th>3</th>\n",
       "      <td>Apartamento</td>\n",
       "      <td>Higienópolis</td>\n",
       "      <td>1</td>\n",
       "      <td>0</td>\n",
       "      <td>0</td>\n",
       "      <td>48</td>\n",
       "      <td>800.0</td>\n",
       "      <td>230.0</td>\n",
       "      <td>0.0</td>\n",
       "      <td>16.67</td>\n",
       "      <td>Apartamento</td>\n",
       "      <td>Padrão</td>\n",
       "    </tr>\n",
       "    <tr>\n",
       "      <th>4</th>\n",
       "      <td>Apartamento</td>\n",
       "      <td>Cachambi</td>\n",
       "      <td>2</td>\n",
       "      <td>0</td>\n",
       "      <td>0</td>\n",
       "      <td>50</td>\n",
       "      <td>1300.0</td>\n",
       "      <td>301.0</td>\n",
       "      <td>17.0</td>\n",
       "      <td>26.00</td>\n",
       "      <td>Apartamento</td>\n",
       "      <td>Padrão</td>\n",
       "    </tr>\n",
       "  </tbody>\n",
       "</table>\n",
       "</div>"
      ],
      "text/plain": [
       "          Tipo           Bairro  Quartos  Vagas  Suites  Area   Valor  \\\n",
       "0    Quitinete       Copacabana        1      0       0    40  1700.0   \n",
       "1         Casa  Jardim Botânico        2      0       1   100  7000.0   \n",
       "2  Apartamento           Centro        1      0       0    15   800.0   \n",
       "3  Apartamento     Higienópolis        1      0       0    48   800.0   \n",
       "4  Apartamento         Cachambi        2      0       0    50  1300.0   \n",
       "\n",
       "   Condominio  IPTU  Valor m2 Tipo Agregado  Padrão  \n",
       "0       500.0  60.0     42.50   Apartamento  Padrão  \n",
       "1         0.0   0.0     70.00          Casa   Médio  \n",
       "2       390.0  20.0     53.33   Apartamento  Padrão  \n",
       "3       230.0   0.0     16.67   Apartamento  Padrão  \n",
       "4       301.0  17.0     26.00   Apartamento  Padrão  "
      ]
     },
     "execution_count": 87,
     "metadata": {},
     "output_type": "execute_result"
    }
   ],
   "source": [
    "dados.head()"
   ]
  },
  {
   "cell_type": "code",
   "execution_count": 88,
   "metadata": {},
   "outputs": [
    {
     "data": {
      "text/plain": [
       "<Figure size 1080x576 with 0 Axes>"
      ]
     },
     "metadata": {},
     "output_type": "display_data"
    }
   ],
   "source": [
    "# definindo area do gráfico\n",
    "area = plt.figure()   "
   ]
  },
  {
   "cell_type": "code",
   "execution_count": 89,
   "metadata": {},
   "outputs": [],
   "source": [
    "# definindo posição de cada gráfico (visão com 4 gráficos)\n",
    "g1 = area.add_subplot(2, 2, 1)\n",
    "g2 = area.add_subplot(2, 2, 2)\n",
    "g3 = area.add_subplot(2, 2, 3)\n",
    "g4 = area.add_subplot(2, 2, 4)"
   ]
  },
  {
   "cell_type": "code",
   "execution_count": 90,
   "metadata": {},
   "outputs": [
    {
     "data": {
      "text/plain": [
       "Text(0.5, 1.0, 'Valor Médio por Tipo')"
      ]
     },
     "execution_count": 90,
     "metadata": {},
     "output_type": "execute_result"
    }
   ],
   "source": [
    "#gráfico de dispersão (scatter)\n",
    "g1.scatter(dados_graf.Valor, dados_graf.Area)\n",
    "g1.set_title('Valor X Área')\n",
    "\n",
    "#gráfico Histograma\n",
    "g2.hist(dados_graf.Valor)\n",
    "g2.set_title('Histograma')\n",
    "\n",
    "#gráfico de linha por amostragem (100 casos)\n",
    "dados_g3 = dados_graf.Valor.sample(100)\n",
    "dados_g3.index = range(dados_g3.shape[0])  #ajustando o indice dos dados já que são 100 casos aleatórios\n",
    "g3.plot(dados_g3)\n",
    "g3.set_title('Amostra (Valor)')\n",
    "\n",
    "#gráfico de barras\n",
    "grupo = dados_graf.groupby('Tipo')['Valor']\n",
    "label = grupo.mean().index    #rótulos\n",
    "valores = grupo.mean().values\n",
    "g4.bar(label, valores)\n",
    "g4.set_title('Valor Médio por Tipo')"
   ]
  },
  {
   "cell_type": "code",
   "execution_count": 91,
   "metadata": {},
   "outputs": [
    {
     "data": {
      "image/png": "[encoded data removed]",
      "text/plain": [
       "<Figure size 1080x576 with 4 Axes>"
      ]
     },
     "execution_count": 91,
     "metadata": {},
     "output_type": "execute_result"
    }
   ],
   "source": [
    "area"
   ]
  },
  {
   "cell_type": "code",
   "execution_count": 92,
   "metadata": {},
   "outputs": [],
   "source": [
    "#salvando o gráfico como imagem\n",
    "area.savefig('grafico.png', dpi = 300, bbox_inches = 'tight')  #tight remove bordas brancas"
   ]
  },
  {
   "cell_type": "code",
   "execution_count": 95,
   "metadata": {},
   "outputs": [
    {
     "data": {
      "text/plain": [
       "Text(0.5, 1.0, 'Total de Imóveis por Tipo')"
      ]
     },
     "execution_count": 95,
     "metadata": {},
     "output_type": "execute_result"
    },
    {
     "data": {
      "image/png": "[encoded data removed]",
      "text/plain": [
       "<Figure size 1080x576 with 2 Axes>"
      ]
     },
     "metadata": {},
     "output_type": "display_data"
    }
   ],
   "source": [
    "#gerando um último gráfico (pizza)\n",
    "area_2 = plt.figure()\n",
    "g1 = area_2.add_subplot(1, 2, 1)\n",
    "g2 = area_2.add_subplot(1, 2, 2)\n",
    "grupo1 = dados_graf.groupby('Tipo Agregado')['Valor']\n",
    "label = grupo1.count().index\n",
    "valores = grupo1.count().values\n",
    "g1.pie(valores, labels = label, autopct='%1.1f%%')\n",
    "g1.set_title('Total de Imóveis por Tipo Agregado')\n",
    "\n",
    "grupo2 = dados.groupby('Tipo')['Valor']\n",
    "label = grupo2.count().index\n",
    "valores = grupo2.count().values\n",
    "g2.pie(valores, labels = label, autopct='%1.1f%%', explode = (.1, .1, .1, .1, .1))\n",
    "g2.set_title('Total de Imóveis por Tipo')"
   ]
  },
  {
   "cell_type": "code",
   "execution_count": 94,
   "metadata": {},
   "outputs": [
    {
     "data": {
      "text/plain": [
       "<Figure size 1080x576 with 0 Axes>"
      ]
     },
     "execution_count": 94,
     "metadata": {},
     "output_type": "execute_result"
    }
   ],
   "source": []
  },
  {
   "cell_type": "code",
   "execution_count": null,
   "metadata": {},
   "outputs": [],
   "source": []
  }
 ],
 "metadata": {
  "kernelspec": {
   "display_name": "Python 3",
   "language": "python",
   "name": "python3"
  },
  "language_info": {
   "codemirror_mode": {
    "name": "ipython",
    "version": 3
   },
   "file_extension": ".py",
   "mimetype": "text/x-python",
   "name": "python",
   "nbconvert_exporter": "python",
   "pygments_lexer": "ipython3",
   "version": "3.7.6"
  }
 },
 "nbformat": 4,
 "nbformat_minor": 4
}
