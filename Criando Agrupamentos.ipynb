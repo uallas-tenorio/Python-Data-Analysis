{
 "cells": [
  {
   "cell_type": "markdown",
   "metadata": {},
   "source": [
    "# Relatório de Análise VII"
   ]
  },
  {
   "cell_type": "markdown",
   "metadata": {},
   "source": [
    "## Criando Agrupamentos"
   ]
  },
  {
   "cell_type": "code",
   "execution_count": 4,
   "metadata": {},
   "outputs": [],
   "source": [
    "import pandas as pd"
   ]
  },
  {
   "cell_type": "code",
   "execution_count": 5,
   "metadata": {},
   "outputs": [],
   "source": [
    "dados = pd.read_csv('dados/aluguel_residencial.csv', sep = ';')"
   ]
  },
  {
   "cell_type": "code",
   "execution_count": 113,
   "metadata": {},
   "outputs": [
    {
     "data": {
      "text/html": [
       "<div>\n",
       "<style scoped>\n",
       "    .dataframe tbody tr th:only-of-type {\n",
       "        vertical-align: middle;\n",
       "    }\n",
       "\n",
       "    .dataframe tbody tr th {\n",
       "        vertical-align: top;\n",
       "    }\n",
       "\n",
       "    .dataframe thead th {\n",
       "        text-align: right;\n",
       "    }\n",
       "</style>\n",
       "<table border=\"1\" class=\"dataframe\">\n",
       "  <thead>\n",
       "    <tr style=\"text-align: right;\">\n",
       "      <th></th>\n",
       "      <th>Tipo</th>\n",
       "      <th>Bairro</th>\n",
       "      <th>Quartos</th>\n",
       "      <th>Vagas</th>\n",
       "      <th>Suites</th>\n",
       "      <th>Area</th>\n",
       "      <th>Valor</th>\n",
       "      <th>Condominio</th>\n",
       "      <th>IPTU</th>\n",
       "      <th>Valor m2</th>\n",
       "      <th>Tipo Agregado</th>\n",
       "    </tr>\n",
       "  </thead>\n",
       "  <tbody>\n",
       "    <tr>\n",
       "      <th>0</th>\n",
       "      <td>Quitinete</td>\n",
       "      <td>Copacabana</td>\n",
       "      <td>1</td>\n",
       "      <td>0</td>\n",
       "      <td>0</td>\n",
       "      <td>40</td>\n",
       "      <td>1700.0</td>\n",
       "      <td>500.0</td>\n",
       "      <td>60.0</td>\n",
       "      <td>42.50</td>\n",
       "      <td>Apartamento</td>\n",
       "    </tr>\n",
       "    <tr>\n",
       "      <th>1</th>\n",
       "      <td>Casa</td>\n",
       "      <td>Jardim Botânico</td>\n",
       "      <td>2</td>\n",
       "      <td>0</td>\n",
       "      <td>1</td>\n",
       "      <td>100</td>\n",
       "      <td>7000.0</td>\n",
       "      <td>0.0</td>\n",
       "      <td>0.0</td>\n",
       "      <td>70.00</td>\n",
       "      <td>Casa</td>\n",
       "    </tr>\n",
       "    <tr>\n",
       "      <th>2</th>\n",
       "      <td>Apartamento</td>\n",
       "      <td>Centro</td>\n",
       "      <td>1</td>\n",
       "      <td>0</td>\n",
       "      <td>0</td>\n",
       "      <td>15</td>\n",
       "      <td>800.0</td>\n",
       "      <td>390.0</td>\n",
       "      <td>20.0</td>\n",
       "      <td>53.33</td>\n",
       "      <td>Apartamento</td>\n",
       "    </tr>\n",
       "    <tr>\n",
       "      <th>3</th>\n",
       "      <td>Apartamento</td>\n",
       "      <td>Higienópolis</td>\n",
       "      <td>1</td>\n",
       "      <td>0</td>\n",
       "      <td>0</td>\n",
       "      <td>48</td>\n",
       "      <td>800.0</td>\n",
       "      <td>230.0</td>\n",
       "      <td>0.0</td>\n",
       "      <td>16.67</td>\n",
       "      <td>Apartamento</td>\n",
       "    </tr>\n",
       "    <tr>\n",
       "      <th>4</th>\n",
       "      <td>Apartamento</td>\n",
       "      <td>Cachambi</td>\n",
       "      <td>2</td>\n",
       "      <td>0</td>\n",
       "      <td>0</td>\n",
       "      <td>50</td>\n",
       "      <td>1300.0</td>\n",
       "      <td>301.0</td>\n",
       "      <td>17.0</td>\n",
       "      <td>26.00</td>\n",
       "      <td>Apartamento</td>\n",
       "    </tr>\n",
       "    <tr>\n",
       "      <th>5</th>\n",
       "      <td>Casa de Condomínio</td>\n",
       "      <td>Barra da Tijuca</td>\n",
       "      <td>5</td>\n",
       "      <td>4</td>\n",
       "      <td>5</td>\n",
       "      <td>750</td>\n",
       "      <td>22000.0</td>\n",
       "      <td>0.0</td>\n",
       "      <td>0.0</td>\n",
       "      <td>29.33</td>\n",
       "      <td>Casa</td>\n",
       "    </tr>\n",
       "    <tr>\n",
       "      <th>6</th>\n",
       "      <td>Casa de Condomínio</td>\n",
       "      <td>Ramos</td>\n",
       "      <td>2</td>\n",
       "      <td>2</td>\n",
       "      <td>0</td>\n",
       "      <td>65</td>\n",
       "      <td>1000.0</td>\n",
       "      <td>0.0</td>\n",
       "      <td>0.0</td>\n",
       "      <td>15.38</td>\n",
       "      <td>Casa</td>\n",
       "    </tr>\n",
       "    <tr>\n",
       "      <th>7</th>\n",
       "      <td>Apartamento</td>\n",
       "      <td>Grajaú</td>\n",
       "      <td>2</td>\n",
       "      <td>1</td>\n",
       "      <td>0</td>\n",
       "      <td>70</td>\n",
       "      <td>1500.0</td>\n",
       "      <td>642.0</td>\n",
       "      <td>74.0</td>\n",
       "      <td>21.43</td>\n",
       "      <td>Apartamento</td>\n",
       "    </tr>\n",
       "    <tr>\n",
       "      <th>8</th>\n",
       "      <td>Apartamento</td>\n",
       "      <td>Lins de Vasconcelos</td>\n",
       "      <td>3</td>\n",
       "      <td>1</td>\n",
       "      <td>1</td>\n",
       "      <td>90</td>\n",
       "      <td>1500.0</td>\n",
       "      <td>455.0</td>\n",
       "      <td>14.0</td>\n",
       "      <td>16.67</td>\n",
       "      <td>Apartamento</td>\n",
       "    </tr>\n",
       "    <tr>\n",
       "      <th>9</th>\n",
       "      <td>Apartamento</td>\n",
       "      <td>Copacabana</td>\n",
       "      <td>1</td>\n",
       "      <td>0</td>\n",
       "      <td>1</td>\n",
       "      <td>40</td>\n",
       "      <td>2000.0</td>\n",
       "      <td>561.0</td>\n",
       "      <td>50.0</td>\n",
       "      <td>50.00</td>\n",
       "      <td>Apartamento</td>\n",
       "    </tr>\n",
       "  </tbody>\n",
       "</table>\n",
       "</div>"
      ],
      "text/plain": [
       "                 Tipo               Bairro  Quartos  Vagas  Suites  Area  \\\n",
       "0           Quitinete           Copacabana        1      0       0    40   \n",
       "1                Casa      Jardim Botânico        2      0       1   100   \n",
       "2         Apartamento               Centro        1      0       0    15   \n",
       "3         Apartamento         Higienópolis        1      0       0    48   \n",
       "4         Apartamento             Cachambi        2      0       0    50   \n",
       "5  Casa de Condomínio      Barra da Tijuca        5      4       5   750   \n",
       "6  Casa de Condomínio                Ramos        2      2       0    65   \n",
       "7         Apartamento               Grajaú        2      1       0    70   \n",
       "8         Apartamento  Lins de Vasconcelos        3      1       1    90   \n",
       "9         Apartamento           Copacabana        1      0       1    40   \n",
       "\n",
       "     Valor  Condominio  IPTU  Valor m2 Tipo Agregado  \n",
       "0   1700.0       500.0  60.0     42.50   Apartamento  \n",
       "1   7000.0         0.0   0.0     70.00          Casa  \n",
       "2    800.0       390.0  20.0     53.33   Apartamento  \n",
       "3    800.0       230.0   0.0     16.67   Apartamento  \n",
       "4   1300.0       301.0  17.0     26.00   Apartamento  \n",
       "5  22000.0         0.0   0.0     29.33          Casa  \n",
       "6   1000.0         0.0   0.0     15.38          Casa  \n",
       "7   1500.0       642.0  74.0     21.43   Apartamento  \n",
       "8   1500.0       455.0  14.0     16.67   Apartamento  \n",
       "9   2000.0       561.0  50.0     50.00   Apartamento  "
      ]
     },
     "execution_count": 113,
     "metadata": {},
     "output_type": "execute_result"
    }
   ],
   "source": [
    "dados.head(10)"
   ]
  },
  {
   "cell_type": "code",
   "execution_count": 114,
   "metadata": {},
   "outputs": [
    {
     "data": {
      "text/plain": [
       "5046.172821405663"
      ]
     },
     "execution_count": 114,
     "metadata": {},
     "output_type": "execute_result"
    }
   ],
   "source": [
    "dados['Valor'].mean()"
   ]
  },
  {
   "cell_type": "code",
   "execution_count": 115,
   "metadata": {},
   "outputs": [],
   "source": [
    "##### https://pandas.pydata.org/pandas-docs/stable/reference/frame.html"
   ]
  },
  {
   "cell_type": "code",
   "execution_count": 116,
   "metadata": {},
   "outputs": [],
   "source": [
    "# Verificar dados de bairros específicos"
   ]
  },
  {
   "cell_type": "code",
   "execution_count": 117,
   "metadata": {},
   "outputs": [],
   "source": [
    "bairros = ['Barra da Tijuca', 'Copacabana', 'Ipanema', 'Leblon', 'Botafogo', 'Flamengo', 'Tijuca']\n",
    "selecao = dados['Bairro'].isin(bairros)\n",
    "dados = dados[selecao]"
   ]
  },
  {
   "cell_type": "code",
   "execution_count": 118,
   "metadata": {},
   "outputs": [],
   "source": [
    "# Verificando se os bairros foram encontrados"
   ]
  },
  {
   "cell_type": "code",
   "execution_count": 119,
   "metadata": {},
   "outputs": [
    {
     "data": {
      "text/plain": [
       "0          Copacabana\n",
       "5     Barra da Tijuca\n",
       "15             Tijuca\n",
       "19            Ipanema\n",
       "23           Botafogo\n",
       "27             Leblon\n",
       "78           Flamengo\n",
       "Name: Bairro, dtype: object"
      ]
     },
     "execution_count": 119,
     "metadata": {},
     "output_type": "execute_result"
    }
   ],
   "source": [
    "dados['Bairro'].drop_duplicates()"
   ]
  },
  {
   "cell_type": "code",
   "execution_count": 120,
   "metadata": {},
   "outputs": [],
   "source": [
    "# demonstra o valor médio 'varrendo' dados linha a linha, agrupado por bairro"
   ]
  },
  {
   "cell_type": "code",
   "execution_count": 121,
   "metadata": {},
   "outputs": [],
   "source": [
    "grupo_bairro = dados.groupby('Bairro')"
   ]
  },
  {
   "cell_type": "code",
   "execution_count": 122,
   "metadata": {},
   "outputs": [
    {
     "data": {
      "text/plain": [
       "<pandas.core.groupby.generic.DataFrameGroupBy object at 0x00000229E91F6788>"
      ]
     },
     "execution_count": 122,
     "metadata": {},
     "output_type": "execute_result"
    }
   ],
   "source": [
    "grupo_bairro"
   ]
  },
  {
   "cell_type": "code",
   "execution_count": 123,
   "metadata": {},
   "outputs": [
    {
     "name": "stdout",
     "output_type": "stream",
     "text": [
      "Barra da Tijuca => 7069.552938130986\n",
      "Botafogo => 8791.828178694159\n",
      "Copacabana => 4126.677004538578\n",
      "Flamengo => 4113.526610644258\n",
      "Ipanema => 9352.001133786847\n",
      "Leblon => 8746.344992050874\n",
      "Tijuca => 2043.52\n"
     ]
    }
   ],
   "source": [
    "for bairro, data in grupo_bairro:\n",
    "    print('{} => {}'.format(bairro, data.Valor.mean()))"
   ]
  },
  {
   "cell_type": "code",
   "execution_count": 124,
   "metadata": {},
   "outputs": [],
   "source": [
    "# forma mais simples"
   ]
  },
  {
   "cell_type": "code",
   "execution_count": 125,
   "metadata": {},
   "outputs": [
    {
     "data": {
      "text/plain": [
       "Bairro\n",
       "Barra da Tijuca    7069.552938\n",
       "Botafogo           8791.828179\n",
       "Copacabana         4126.677005\n",
       "Flamengo           4113.526611\n",
       "Ipanema            9352.001134\n",
       "Leblon             8746.344992\n",
       "Tijuca             2043.520000\n",
       "Name: Valor, dtype: float64"
      ]
     },
     "execution_count": 125,
     "metadata": {},
     "output_type": "execute_result"
    }
   ],
   "source": [
    "grupo_bairro['Valor'].mean()"
   ]
  },
  {
   "cell_type": "code",
   "execution_count": 126,
   "metadata": {},
   "outputs": [
    {
     "data": {
      "text/html": [
       "<div>\n",
       "<style scoped>\n",
       "    .dataframe tbody tr th:only-of-type {\n",
       "        vertical-align: middle;\n",
       "    }\n",
       "\n",
       "    .dataframe tbody tr th {\n",
       "        vertical-align: top;\n",
       "    }\n",
       "\n",
       "    .dataframe thead th {\n",
       "        text-align: right;\n",
       "    }\n",
       "</style>\n",
       "<table border=\"1\" class=\"dataframe\">\n",
       "  <thead>\n",
       "    <tr style=\"text-align: right;\">\n",
       "      <th></th>\n",
       "      <th>Valor</th>\n",
       "      <th>Condominio</th>\n",
       "    </tr>\n",
       "    <tr>\n",
       "      <th>Bairro</th>\n",
       "      <th></th>\n",
       "      <th></th>\n",
       "    </tr>\n",
       "  </thead>\n",
       "  <tbody>\n",
       "    <tr>\n",
       "      <th>Barra da Tijuca</th>\n",
       "      <td>7069.55</td>\n",
       "      <td>3591.01</td>\n",
       "    </tr>\n",
       "    <tr>\n",
       "      <th>Botafogo</th>\n",
       "      <td>8791.83</td>\n",
       "      <td>976.28</td>\n",
       "    </tr>\n",
       "    <tr>\n",
       "      <th>Copacabana</th>\n",
       "      <td>4126.68</td>\n",
       "      <td>1148.68</td>\n",
       "    </tr>\n",
       "    <tr>\n",
       "      <th>Flamengo</th>\n",
       "      <td>4113.53</td>\n",
       "      <td>1102.15</td>\n",
       "    </tr>\n",
       "    <tr>\n",
       "      <th>Ipanema</th>\n",
       "      <td>9352.00</td>\n",
       "      <td>2244.44</td>\n",
       "    </tr>\n",
       "    <tr>\n",
       "      <th>Leblon</th>\n",
       "      <td>8746.34</td>\n",
       "      <td>2107.18</td>\n",
       "    </tr>\n",
       "    <tr>\n",
       "      <th>Tijuca</th>\n",
       "      <td>2043.52</td>\n",
       "      <td>711.69</td>\n",
       "    </tr>\n",
       "  </tbody>\n",
       "</table>\n",
       "</div>"
      ],
      "text/plain": [
       "                   Valor  Condominio\n",
       "Bairro                              \n",
       "Barra da Tijuca  7069.55     3591.01\n",
       "Botafogo         8791.83      976.28\n",
       "Copacabana       4126.68     1148.68\n",
       "Flamengo         4113.53     1102.15\n",
       "Ipanema          9352.00     2244.44\n",
       "Leblon           8746.34     2107.18\n",
       "Tijuca           2043.52      711.69"
      ]
     },
     "execution_count": 126,
     "metadata": {},
     "output_type": "execute_result"
    }
   ],
   "source": [
    "grupo_bairro[['Valor', 'Condominio']].mean().round(2)   #incluindo condominio"
   ]
  },
  {
   "cell_type": "markdown",
   "metadata": {},
   "source": [
    "## Realizando processo para todos os bairros"
   ]
  },
  {
   "cell_type": "code",
   "execution_count": 127,
   "metadata": {},
   "outputs": [],
   "source": [
    "dados = pd.read_csv('dados/aluguel_residencial.csv', sep = ';')"
   ]
  },
  {
   "cell_type": "code",
   "execution_count": 128,
   "metadata": {},
   "outputs": [],
   "source": [
    "All_Bairros = dados['Bairro'].drop_duplicates()"
   ]
  },
  {
   "cell_type": "code",
   "execution_count": 129,
   "metadata": {},
   "outputs": [
    {
     "data": {
      "text/plain": [
       "0             Copacabana\n",
       "1        Jardim Botânico\n",
       "2                 Centro\n",
       "3           Higienópolis\n",
       "4               Cachambi\n",
       "              ...       \n",
       "13855          Bancários\n",
       "15277         Cavalcanti\n",
       "15280       Rio da Prata\n",
       "15412      Cidade Jardim\n",
       "16428        Coelho Neto\n",
       "Name: Bairro, Length: 152, dtype: object"
      ]
     },
     "execution_count": 129,
     "metadata": {},
     "output_type": "execute_result"
    }
   ],
   "source": [
    "All_Bairros"
   ]
  },
  {
   "cell_type": "code",
   "execution_count": 130,
   "metadata": {},
   "outputs": [],
   "source": [
    "selecao = dados['Bairro'].isin(All_Bairros)\n",
    "dados = dados[selecao]"
   ]
  },
  {
   "cell_type": "code",
   "execution_count": 131,
   "metadata": {},
   "outputs": [],
   "source": [
    "All_Bairros = dados.groupby('Bairro')"
   ]
  },
  {
   "cell_type": "code",
   "execution_count": 132,
   "metadata": {},
   "outputs": [
    {
     "data": {
      "text/html": [
       "<div>\n",
       "<style scoped>\n",
       "    .dataframe tbody tr th:only-of-type {\n",
       "        vertical-align: middle;\n",
       "    }\n",
       "\n",
       "    .dataframe tbody tr th {\n",
       "        vertical-align: top;\n",
       "    }\n",
       "\n",
       "    .dataframe thead th {\n",
       "        text-align: right;\n",
       "    }\n",
       "</style>\n",
       "<table border=\"1\" class=\"dataframe\">\n",
       "  <thead>\n",
       "    <tr style=\"text-align: right;\">\n",
       "      <th></th>\n",
       "      <th>Valor</th>\n",
       "      <th>Condominio</th>\n",
       "    </tr>\n",
       "    <tr>\n",
       "      <th>Bairro</th>\n",
       "      <th></th>\n",
       "      <th></th>\n",
       "    </tr>\n",
       "  </thead>\n",
       "  <tbody>\n",
       "    <tr>\n",
       "      <th>Abolição</th>\n",
       "      <td>1195.33</td>\n",
       "      <td>191.40</td>\n",
       "    </tr>\n",
       "    <tr>\n",
       "      <th>Alto da Boa Vista</th>\n",
       "      <td>3966.67</td>\n",
       "      <td>885.00</td>\n",
       "    </tr>\n",
       "    <tr>\n",
       "      <th>Anchieta</th>\n",
       "      <td>875.00</td>\n",
       "      <td>19.75</td>\n",
       "    </tr>\n",
       "    <tr>\n",
       "      <th>Andaraí</th>\n",
       "      <td>1464.71</td>\n",
       "      <td>497.71</td>\n",
       "    </tr>\n",
       "    <tr>\n",
       "      <th>Anil</th>\n",
       "      <td>2048.87</td>\n",
       "      <td>455.85</td>\n",
       "    </tr>\n",
       "    <tr>\n",
       "      <th>...</th>\n",
       "      <td>...</td>\n",
       "      <td>...</td>\n",
       "    </tr>\n",
       "    <tr>\n",
       "      <th>Vila Valqueire</th>\n",
       "      <td>1769.58</td>\n",
       "      <td>276.88</td>\n",
       "    </tr>\n",
       "    <tr>\n",
       "      <th>Vila da Penha</th>\n",
       "      <td>1260.58</td>\n",
       "      <td>232.68</td>\n",
       "    </tr>\n",
       "    <tr>\n",
       "      <th>Vista Alegre</th>\n",
       "      <td>1114.38</td>\n",
       "      <td>210.06</td>\n",
       "    </tr>\n",
       "    <tr>\n",
       "      <th>Zumbi</th>\n",
       "      <td>2150.00</td>\n",
       "      <td>1050.00</td>\n",
       "    </tr>\n",
       "    <tr>\n",
       "      <th>Água Santa</th>\n",
       "      <td>861.11</td>\n",
       "      <td>269.44</td>\n",
       "    </tr>\n",
       "  </tbody>\n",
       "</table>\n",
       "<p>152 rows × 2 columns</p>\n",
       "</div>"
      ],
      "text/plain": [
       "                     Valor  Condominio\n",
       "Bairro                                \n",
       "Abolição           1195.33      191.40\n",
       "Alto da Boa Vista  3966.67      885.00\n",
       "Anchieta            875.00       19.75\n",
       "Andaraí            1464.71      497.71\n",
       "Anil               2048.87      455.85\n",
       "...                    ...         ...\n",
       "Vila Valqueire     1769.58      276.88\n",
       "Vila da Penha      1260.58      232.68\n",
       "Vista Alegre       1114.38      210.06\n",
       "Zumbi              2150.00     1050.00\n",
       "Água Santa          861.11      269.44\n",
       "\n",
       "[152 rows x 2 columns]"
      ]
     },
     "execution_count": 132,
     "metadata": {},
     "output_type": "execute_result"
    }
   ],
   "source": [
    "All_Bairros[['Valor', 'Condominio']].mean().round(2)   #incluindo condominio"
   ]
  },
  {
   "cell_type": "markdown",
   "metadata": {},
   "source": [
    "## Estatísticas Descritivas"
   ]
  },
  {
   "cell_type": "code",
   "execution_count": 133,
   "metadata": {},
   "outputs": [
    {
     "data": {
      "text/html": [
       "<div>\n",
       "<style scoped>\n",
       "    .dataframe tbody tr th:only-of-type {\n",
       "        vertical-align: middle;\n",
       "    }\n",
       "\n",
       "    .dataframe tbody tr th {\n",
       "        vertical-align: top;\n",
       "    }\n",
       "\n",
       "    .dataframe thead th {\n",
       "        text-align: right;\n",
       "    }\n",
       "</style>\n",
       "<table border=\"1\" class=\"dataframe\">\n",
       "  <thead>\n",
       "    <tr style=\"text-align: right;\">\n",
       "      <th></th>\n",
       "      <th>count</th>\n",
       "      <th>mean</th>\n",
       "      <th>std</th>\n",
       "      <th>min</th>\n",
       "      <th>25%</th>\n",
       "      <th>50%</th>\n",
       "      <th>75%</th>\n",
       "      <th>max</th>\n",
       "    </tr>\n",
       "    <tr>\n",
       "      <th>Bairro</th>\n",
       "      <th></th>\n",
       "      <th></th>\n",
       "      <th></th>\n",
       "      <th></th>\n",
       "      <th></th>\n",
       "      <th></th>\n",
       "      <th></th>\n",
       "      <th></th>\n",
       "    </tr>\n",
       "  </thead>\n",
       "  <tbody>\n",
       "    <tr>\n",
       "      <th>Abolição</th>\n",
       "      <td>15.0</td>\n",
       "      <td>1195.33</td>\n",
       "      <td>425.32</td>\n",
       "      <td>800.0</td>\n",
       "      <td>900.0</td>\n",
       "      <td>1180.0</td>\n",
       "      <td>1200.0</td>\n",
       "      <td>2300.0</td>\n",
       "    </tr>\n",
       "    <tr>\n",
       "      <th>Alto da Boa Vista</th>\n",
       "      <td>6.0</td>\n",
       "      <td>3966.67</td>\n",
       "      <td>5513.59</td>\n",
       "      <td>600.0</td>\n",
       "      <td>1150.0</td>\n",
       "      <td>1725.0</td>\n",
       "      <td>3275.0</td>\n",
       "      <td>15000.0</td>\n",
       "    </tr>\n",
       "    <tr>\n",
       "      <th>Anchieta</th>\n",
       "      <td>4.0</td>\n",
       "      <td>875.00</td>\n",
       "      <td>132.29</td>\n",
       "      <td>700.0</td>\n",
       "      <td>812.5</td>\n",
       "      <td>900.0</td>\n",
       "      <td>962.5</td>\n",
       "      <td>1000.0</td>\n",
       "    </tr>\n",
       "    <tr>\n",
       "      <th>Andaraí</th>\n",
       "      <td>97.0</td>\n",
       "      <td>1464.71</td>\n",
       "      <td>408.11</td>\n",
       "      <td>700.0</td>\n",
       "      <td>1200.0</td>\n",
       "      <td>1400.0</td>\n",
       "      <td>1650.0</td>\n",
       "      <td>2950.0</td>\n",
       "    </tr>\n",
       "    <tr>\n",
       "      <th>Anil</th>\n",
       "      <td>71.0</td>\n",
       "      <td>2048.87</td>\n",
       "      <td>1523.97</td>\n",
       "      <td>300.0</td>\n",
       "      <td>1100.0</td>\n",
       "      <td>1500.0</td>\n",
       "      <td>2675.0</td>\n",
       "      <td>7000.0</td>\n",
       "    </tr>\n",
       "    <tr>\n",
       "      <th>...</th>\n",
       "      <td>...</td>\n",
       "      <td>...</td>\n",
       "      <td>...</td>\n",
       "      <td>...</td>\n",
       "      <td>...</td>\n",
       "      <td>...</td>\n",
       "      <td>...</td>\n",
       "      <td>...</td>\n",
       "    </tr>\n",
       "    <tr>\n",
       "      <th>Vila Valqueire</th>\n",
       "      <td>48.0</td>\n",
       "      <td>1769.58</td>\n",
       "      <td>2203.01</td>\n",
       "      <td>800.0</td>\n",
       "      <td>1000.0</td>\n",
       "      <td>1250.0</td>\n",
       "      <td>1700.0</td>\n",
       "      <td>16000.0</td>\n",
       "    </tr>\n",
       "    <tr>\n",
       "      <th>Vila da Penha</th>\n",
       "      <td>104.0</td>\n",
       "      <td>1260.58</td>\n",
       "      <td>644.66</td>\n",
       "      <td>450.0</td>\n",
       "      <td>900.0</td>\n",
       "      <td>1100.0</td>\n",
       "      <td>1302.5</td>\n",
       "      <td>4500.0</td>\n",
       "    </tr>\n",
       "    <tr>\n",
       "      <th>Vista Alegre</th>\n",
       "      <td>16.0</td>\n",
       "      <td>1114.38</td>\n",
       "      <td>199.60</td>\n",
       "      <td>700.0</td>\n",
       "      <td>1012.5</td>\n",
       "      <td>1200.0</td>\n",
       "      <td>1225.0</td>\n",
       "      <td>1400.0</td>\n",
       "    </tr>\n",
       "    <tr>\n",
       "      <th>Zumbi</th>\n",
       "      <td>2.0</td>\n",
       "      <td>2150.00</td>\n",
       "      <td>777.82</td>\n",
       "      <td>1600.0</td>\n",
       "      <td>1875.0</td>\n",
       "      <td>2150.0</td>\n",
       "      <td>2425.0</td>\n",
       "      <td>2700.0</td>\n",
       "    </tr>\n",
       "    <tr>\n",
       "      <th>Água Santa</th>\n",
       "      <td>9.0</td>\n",
       "      <td>861.11</td>\n",
       "      <td>174.60</td>\n",
       "      <td>600.0</td>\n",
       "      <td>800.0</td>\n",
       "      <td>850.0</td>\n",
       "      <td>950.0</td>\n",
       "      <td>1200.0</td>\n",
       "    </tr>\n",
       "  </tbody>\n",
       "</table>\n",
       "<p>152 rows × 8 columns</p>\n",
       "</div>"
      ],
      "text/plain": [
       "                   count     mean      std     min     25%     50%     75%  \\\n",
       "Bairro                                                                       \n",
       "Abolição            15.0  1195.33   425.32   800.0   900.0  1180.0  1200.0   \n",
       "Alto da Boa Vista    6.0  3966.67  5513.59   600.0  1150.0  1725.0  3275.0   \n",
       "Anchieta             4.0   875.00   132.29   700.0   812.5   900.0   962.5   \n",
       "Andaraí             97.0  1464.71   408.11   700.0  1200.0  1400.0  1650.0   \n",
       "Anil                71.0  2048.87  1523.97   300.0  1100.0  1500.0  2675.0   \n",
       "...                  ...      ...      ...     ...     ...     ...     ...   \n",
       "Vila Valqueire      48.0  1769.58  2203.01   800.0  1000.0  1250.0  1700.0   \n",
       "Vila da Penha      104.0  1260.58   644.66   450.0   900.0  1100.0  1302.5   \n",
       "Vista Alegre        16.0  1114.38   199.60   700.0  1012.5  1200.0  1225.0   \n",
       "Zumbi                2.0  2150.00   777.82  1600.0  1875.0  2150.0  2425.0   \n",
       "Água Santa           9.0   861.11   174.60   600.0   800.0   850.0   950.0   \n",
       "\n",
       "                       max  \n",
       "Bairro                      \n",
       "Abolição            2300.0  \n",
       "Alto da Boa Vista  15000.0  \n",
       "Anchieta            1000.0  \n",
       "Andaraí             2950.0  \n",
       "Anil                7000.0  \n",
       "...                    ...  \n",
       "Vila Valqueire     16000.0  \n",
       "Vila da Penha       4500.0  \n",
       "Vista Alegre        1400.0  \n",
       "Zumbi               2700.0  \n",
       "Água Santa          1200.0  \n",
       "\n",
       "[152 rows x 8 columns]"
      ]
     },
     "execution_count": 133,
     "metadata": {},
     "output_type": "execute_result"
    }
   ],
   "source": [
    "All_Bairros['Valor'].describe().round(2)"
   ]
  },
  {
   "cell_type": "code",
   "execution_count": 134,
   "metadata": {},
   "outputs": [],
   "source": [
    "# definindo estatísticas específicas"
   ]
  },
  {
   "cell_type": "code",
   "execution_count": 135,
   "metadata": {},
   "outputs": [
    {
     "data": {
      "text/html": [
       "<div>\n",
       "<style scoped>\n",
       "    .dataframe tbody tr th:only-of-type {\n",
       "        vertical-align: middle;\n",
       "    }\n",
       "\n",
       "    .dataframe tbody tr th {\n",
       "        vertical-align: top;\n",
       "    }\n",
       "\n",
       "    .dataframe thead th {\n",
       "        text-align: right;\n",
       "    }\n",
       "</style>\n",
       "<table border=\"1\" class=\"dataframe\">\n",
       "  <thead>\n",
       "    <tr style=\"text-align: right;\">\n",
       "      <th></th>\n",
       "      <th>min</th>\n",
       "      <th>max</th>\n",
       "      <th>sum</th>\n",
       "    </tr>\n",
       "    <tr>\n",
       "      <th>Bairro</th>\n",
       "      <th></th>\n",
       "      <th></th>\n",
       "      <th></th>\n",
       "    </tr>\n",
       "  </thead>\n",
       "  <tbody>\n",
       "    <tr>\n",
       "      <th>Abolição</th>\n",
       "      <td>800.0</td>\n",
       "      <td>2300.0</td>\n",
       "      <td>17930.0</td>\n",
       "    </tr>\n",
       "    <tr>\n",
       "      <th>Alto da Boa Vista</th>\n",
       "      <td>600.0</td>\n",
       "      <td>15000.0</td>\n",
       "      <td>23800.0</td>\n",
       "    </tr>\n",
       "    <tr>\n",
       "      <th>Anchieta</th>\n",
       "      <td>700.0</td>\n",
       "      <td>1000.0</td>\n",
       "      <td>3500.0</td>\n",
       "    </tr>\n",
       "    <tr>\n",
       "      <th>Andaraí</th>\n",
       "      <td>700.0</td>\n",
       "      <td>2950.0</td>\n",
       "      <td>142077.0</td>\n",
       "    </tr>\n",
       "    <tr>\n",
       "      <th>Anil</th>\n",
       "      <td>300.0</td>\n",
       "      <td>7000.0</td>\n",
       "      <td>145470.0</td>\n",
       "    </tr>\n",
       "    <tr>\n",
       "      <th>...</th>\n",
       "      <td>...</td>\n",
       "      <td>...</td>\n",
       "      <td>...</td>\n",
       "    </tr>\n",
       "    <tr>\n",
       "      <th>Vila Valqueire</th>\n",
       "      <td>800.0</td>\n",
       "      <td>16000.0</td>\n",
       "      <td>84940.0</td>\n",
       "    </tr>\n",
       "    <tr>\n",
       "      <th>Vila da Penha</th>\n",
       "      <td>450.0</td>\n",
       "      <td>4500.0</td>\n",
       "      <td>131100.0</td>\n",
       "    </tr>\n",
       "    <tr>\n",
       "      <th>Vista Alegre</th>\n",
       "      <td>700.0</td>\n",
       "      <td>1400.0</td>\n",
       "      <td>17830.0</td>\n",
       "    </tr>\n",
       "    <tr>\n",
       "      <th>Zumbi</th>\n",
       "      <td>1600.0</td>\n",
       "      <td>2700.0</td>\n",
       "      <td>4300.0</td>\n",
       "    </tr>\n",
       "    <tr>\n",
       "      <th>Água Santa</th>\n",
       "      <td>600.0</td>\n",
       "      <td>1200.0</td>\n",
       "      <td>7750.0</td>\n",
       "    </tr>\n",
       "  </tbody>\n",
       "</table>\n",
       "<p>152 rows × 3 columns</p>\n",
       "</div>"
      ],
      "text/plain": [
       "                      min      max       sum\n",
       "Bairro                                      \n",
       "Abolição            800.0   2300.0   17930.0\n",
       "Alto da Boa Vista   600.0  15000.0   23800.0\n",
       "Anchieta            700.0   1000.0    3500.0\n",
       "Andaraí             700.0   2950.0  142077.0\n",
       "Anil                300.0   7000.0  145470.0\n",
       "...                   ...      ...       ...\n",
       "Vila Valqueire      800.0  16000.0   84940.0\n",
       "Vila da Penha       450.0   4500.0  131100.0\n",
       "Vista Alegre        700.0   1400.0   17830.0\n",
       "Zumbi              1600.0   2700.0    4300.0\n",
       "Água Santa          600.0   1200.0    7750.0\n",
       "\n",
       "[152 rows x 3 columns]"
      ]
     },
     "execution_count": 135,
     "metadata": {},
     "output_type": "execute_result"
    }
   ],
   "source": [
    "All_Bairros['Valor'].aggregate(['min', 'max', 'sum'])"
   ]
  },
  {
   "cell_type": "code",
   "execution_count": 136,
   "metadata": {},
   "outputs": [],
   "source": [
    "# Renomeando colunas"
   ]
  },
  {
   "cell_type": "code",
   "execution_count": 137,
   "metadata": {},
   "outputs": [
    {
     "data": {
      "text/html": [
       "<div>\n",
       "<style scoped>\n",
       "    .dataframe tbody tr th:only-of-type {\n",
       "        vertical-align: middle;\n",
       "    }\n",
       "\n",
       "    .dataframe tbody tr th {\n",
       "        vertical-align: top;\n",
       "    }\n",
       "\n",
       "    .dataframe thead th {\n",
       "        text-align: right;\n",
       "    }\n",
       "</style>\n",
       "<table border=\"1\" class=\"dataframe\">\n",
       "  <thead>\n",
       "    <tr style=\"text-align: right;\">\n",
       "      <th></th>\n",
       "      <th>Mínimo</th>\n",
       "      <th>Máximo</th>\n",
       "      <th>Soma</th>\n",
       "    </tr>\n",
       "    <tr>\n",
       "      <th>Bairro</th>\n",
       "      <th></th>\n",
       "      <th></th>\n",
       "      <th></th>\n",
       "    </tr>\n",
       "  </thead>\n",
       "  <tbody>\n",
       "    <tr>\n",
       "      <th>Abolição</th>\n",
       "      <td>800.0</td>\n",
       "      <td>2300.0</td>\n",
       "      <td>17930.0</td>\n",
       "    </tr>\n",
       "    <tr>\n",
       "      <th>Alto da Boa Vista</th>\n",
       "      <td>600.0</td>\n",
       "      <td>15000.0</td>\n",
       "      <td>23800.0</td>\n",
       "    </tr>\n",
       "    <tr>\n",
       "      <th>Anchieta</th>\n",
       "      <td>700.0</td>\n",
       "      <td>1000.0</td>\n",
       "      <td>3500.0</td>\n",
       "    </tr>\n",
       "    <tr>\n",
       "      <th>Andaraí</th>\n",
       "      <td>700.0</td>\n",
       "      <td>2950.0</td>\n",
       "      <td>142077.0</td>\n",
       "    </tr>\n",
       "    <tr>\n",
       "      <th>Anil</th>\n",
       "      <td>300.0</td>\n",
       "      <td>7000.0</td>\n",
       "      <td>145470.0</td>\n",
       "    </tr>\n",
       "    <tr>\n",
       "      <th>...</th>\n",
       "      <td>...</td>\n",
       "      <td>...</td>\n",
       "      <td>...</td>\n",
       "    </tr>\n",
       "    <tr>\n",
       "      <th>Vila Valqueire</th>\n",
       "      <td>800.0</td>\n",
       "      <td>16000.0</td>\n",
       "      <td>84940.0</td>\n",
       "    </tr>\n",
       "    <tr>\n",
       "      <th>Vila da Penha</th>\n",
       "      <td>450.0</td>\n",
       "      <td>4500.0</td>\n",
       "      <td>131100.0</td>\n",
       "    </tr>\n",
       "    <tr>\n",
       "      <th>Vista Alegre</th>\n",
       "      <td>700.0</td>\n",
       "      <td>1400.0</td>\n",
       "      <td>17830.0</td>\n",
       "    </tr>\n",
       "    <tr>\n",
       "      <th>Zumbi</th>\n",
       "      <td>1600.0</td>\n",
       "      <td>2700.0</td>\n",
       "      <td>4300.0</td>\n",
       "    </tr>\n",
       "    <tr>\n",
       "      <th>Água Santa</th>\n",
       "      <td>600.0</td>\n",
       "      <td>1200.0</td>\n",
       "      <td>7750.0</td>\n",
       "    </tr>\n",
       "  </tbody>\n",
       "</table>\n",
       "<p>152 rows × 3 columns</p>\n",
       "</div>"
      ],
      "text/plain": [
       "                   Mínimo   Máximo      Soma\n",
       "Bairro                                      \n",
       "Abolição            800.0   2300.0   17930.0\n",
       "Alto da Boa Vista   600.0  15000.0   23800.0\n",
       "Anchieta            700.0   1000.0    3500.0\n",
       "Andaraí             700.0   2950.0  142077.0\n",
       "Anil                300.0   7000.0  145470.0\n",
       "...                   ...      ...       ...\n",
       "Vila Valqueire      800.0  16000.0   84940.0\n",
       "Vila da Penha       450.0   4500.0  131100.0\n",
       "Vista Alegre        700.0   1400.0   17830.0\n",
       "Zumbi              1600.0   2700.0    4300.0\n",
       "Água Santa          600.0   1200.0    7750.0\n",
       "\n",
       "[152 rows x 3 columns]"
      ]
     },
     "execution_count": 137,
     "metadata": {},
     "output_type": "execute_result"
    }
   ],
   "source": [
    "All_Bairros['Valor'].aggregate(['min', 'max', 'sum']).rename(columns = {'min': 'Mínimo', 'max': 'Máximo', 'sum': 'Soma'})"
   ]
  },
  {
   "cell_type": "code",
   "execution_count": 138,
   "metadata": {},
   "outputs": [],
   "source": [
    "#Verificação simples com gráficos"
   ]
  },
  {
   "cell_type": "code",
   "execution_count": 139,
   "metadata": {},
   "outputs": [],
   "source": [
    "%matplotlib inline\n",
    "import matplotlib.pyplot as plt\n",
    "plt.rc('figure', figsize = (20, 10))"
   ]
  },
  {
   "cell_type": "code",
   "execution_count": 142,
   "metadata": {},
   "outputs": [
    {
     "data": {
      "text/plain": [
       "Text(0.5, 1.0, 'Valor médio do Aluguel por bairro')"
      ]
     },
     "execution_count": 142,
     "metadata": {},
     "output_type": "execute_result"
    },
    {
     "data": {
      "image/png": "[encoded data removed]",
      "text/plain": [
       "<Figure size 1440x720 with 1 Axes>"
      ]
     },
     "metadata": {
      "needs_background": "light"
     },
     "output_type": "display_data"
    }
   ],
   "source": [
    "# gráfico de valor médio por bairro\n",
    "fig = grupo_bairro['Valor'].mean().plot.bar(color = 'blue')\n",
    "fig.set_ylabel('Valor do Aluguel')\n",
    "fig.set_title('Valor médio do Aluguel por bairro', {'fontsize':22})"
   ]
  },
  {
   "cell_type": "code",
   "execution_count": 143,
   "metadata": {},
   "outputs": [
    {
     "data": {
      "text/plain": [
       "Text(0.5, 1.0, 'Valor médio do Aluguel por bairro')"
      ]
     },
     "execution_count": 143,
     "metadata": {},
     "output_type": "execute_result"
    },
    {
     "data": {
      "image/png": "[encoded data removed]",
      "text/plain": [
       "<Figure size 1440x720 with 1 Axes>"
      ]
     },
     "metadata": {
      "needs_background": "light"
     },
     "output_type": "display_data"
    }
   ],
   "source": [
    "# gráfico de valor máximo por bairro\n",
    "fig = grupo_bairro['Valor'].max().plot.bar(color = 'blue')\n",
    "fig.set_ylabel('Valor do Aluguel')\n",
    "fig.set_title('Valor médio do Aluguel por bairro', {'fontsize':22})"
   ]
  },
  {
   "cell_type": "markdown",
   "metadata": {},
   "source": [
    "## Criando faixas de valor  "
   ]
  },
  {
   "cell_type": "code",
   "execution_count": 6,
   "metadata": {},
   "outputs": [],
   "source": [
    "# 0 à 2 quartos\n",
    "# 3 à 4 quartos\n",
    "# 5 à 6 quartos\n",
    "# mais que 6 quartos\n",
    "classes = [0, 2, 4, 6, 100]"
   ]
  },
  {
   "cell_type": "code",
   "execution_count": 7,
   "metadata": {},
   "outputs": [],
   "source": [
    "quartos = pd.cut(dados.Quartos, classes)"
   ]
  },
  {
   "cell_type": "code",
   "execution_count": 9,
   "metadata": {},
   "outputs": [
    {
     "data": {
      "text/plain": [
       "(0, 2]      11250\n",
       "(2, 4]       9681\n",
       "(4, 6]        686\n",
       "(6, 100]       50\n",
       "Name: Quartos, dtype: int64"
      ]
     },
     "execution_count": 9,
     "metadata": {},
     "output_type": "execute_result"
    }
   ],
   "source": [
    "pd.value_counts(quartos)"
   ]
  },
  {
   "cell_type": "code",
   "execution_count": 10,
   "metadata": {},
   "outputs": [],
   "source": [
    "# incluindo labels para cada faixa"
   ]
  },
  {
   "cell_type": "code",
   "execution_count": 11,
   "metadata": {},
   "outputs": [],
   "source": [
    "texto_labels = ['0 à 2 quartos', '3 à 4 quartos', '5 à 6 quartos', 'mais que 6 quartos']"
   ]
  },
  {
   "cell_type": "code",
   "execution_count": 14,
   "metadata": {},
   "outputs": [],
   "source": [
    "quartos = pd.cut(dados.Quartos, classes, labels = texto_labels, include_lowest = True)  #  também incluir menor valor na menor faixa"
   ]
  },
  {
   "cell_type": "code",
   "execution_count": 15,
   "metadata": {},
   "outputs": [
    {
     "data": {
      "text/plain": [
       "0 à 2 quartos         11409\n",
       "3 à 4 quartos          9681\n",
       "5 à 6 quartos           686\n",
       "mais que 6 quartos       50\n",
       "Name: Quartos, dtype: int64"
      ]
     },
     "execution_count": 15,
     "metadata": {},
     "output_type": "execute_result"
    }
   ],
   "source": [
    "pd.value_counts(quartos)"
   ]
  },
  {
   "cell_type": "code",
   "execution_count": null,
   "metadata": {},
   "outputs": [],
   "source": []
  }
 ],
 "metadata": {
  "kernelspec": {
   "display_name": "Python 3",
   "language": "python",
   "name": "python3"
  },
  "language_info": {
   "codemirror_mode": {
    "name": "ipython",
    "version": 3
   },
   "file_extension": ".py",
   "mimetype": "text/x-python",
   "name": "python",
   "nbconvert_exporter": "python",
   "pygments_lexer": "ipython3",
   "version": "3.7.6"
  }
 },
 "nbformat": 4,
 "nbformat_minor": 4
}
